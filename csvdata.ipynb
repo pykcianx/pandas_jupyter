{
 "cells": [
  {
   "cell_type": "code",
   "execution_count": null,
   "source": [
    "import pandas as pd\r\n",
    "import os\r\n",
    "import sqlite3\r\n",
    "from datetime import datetime as dt"
   ],
   "outputs": [],
   "metadata": {}
  },
  {
   "cell_type": "code",
   "execution_count": null,
   "source": [
    "netflixcsv2 = pd.read_csv(\"C:\\\\Users\\\\pykcian\\\\Desktop\\\\py\\\\netflix_titles_second.csv\")"
   ],
   "outputs": [],
   "metadata": {}
  },
  {
   "cell_type": "code",
   "execution_count": null,
   "source": [
    "netflixcsv2[\"computer_date\"] = pd.to_datetime(netflixcsv2[\"date_added\"]).dt.strftime(\"%d.%m.%Y\")\r\n",
    "netflixcsv2[\"computer_date\"].fillna(value=\"01.01.2020\", inplace=True)\r\n",
    "#netflixcsv2[\"computer_date\"].fillna(dt(2020, 1, 1), inplace=True)\r\n",
    "netflixcsv2[\"director\"].fillna(value=\"no director info\", inplace=True)\r\n",
    "netflixcsv2[\"cast\"].fillna(value=\"no cast\", inplace=True)\r\n",
    "netflixcsv2[\"date_added\"].fillna(value=\"24-Oct-93\", inplace=True)\r\n",
    "netflixcsv2[\"country\"].fillna(value=\"no country\", inplace=True)\r\n",
    "netflixcsv2"
   ],
   "outputs": [],
   "metadata": {}
  },
  {
   "cell_type": "code",
   "execution_count": null,
   "source": [
    "netflixcsv2.columns = netflixcsv2.columns.str.strip()\r\n",
    "\r\n",
    "with sqlite3.connect('netflix_csv.db') as con:\r\n",
    "    dropTable1 = \"DROP TABLE IF EXISTS Cleaned_data\"\r\n",
    "    con.execute(dropTable1)\r\n",
    "    netflixcsv2.to_sql(\"Cleaned_data\", con)"
   ],
   "outputs": [],
   "metadata": {}
  },
  {
   "cell_type": "code",
   "execution_count": null,
   "source": [
    "from numpy import int64"
   ],
   "outputs": [],
   "metadata": {}
  },
  {
   "cell_type": "code",
   "execution_count": null,
   "source": [
    "netflixcsv2[[\"DayAdded\", \"MonthAdded\", \"YearAdded\"]] = netflixcsv2[\"computer_date\"].str.split(\".\", expand=True)\r\n",
    "netflixcsv2['YearAdded'] = netflixcsv2['YearAdded'].astype(int64)\r\n",
    "netflixcsv2[\"Added to Netflix after Years\"] = netflixcsv2[\"YearAdded\"] - netflixcsv2[\"release_year\"]\r\n",
    "netflixcsv2[\"Added to Netflix after Years\"] = netflixcsv2[\"Added to Netflix after Years\"].astype(str)\r\n",
    "netflixcsv2[\"Added to Netflix after Years\"] = netflixcsv2[\"Added to Netflix after Years\"].replace({'0':'Released same year'}, regex=False)\r\n",
    "\r\n",
    "netflixcsv2.drop(columns=['show_id', 'director', 'cast', 'date_added', 'rating', 'director', 'duration', 'description', 'computer_date', 'DayAdded', 'MonthAdded', 'YearAdded'], inplace=True)\r\n",
    "netflixcsv2.rename(columns={\"type\": \"Type\", \"title\": \"Movie Title\", \"country\": \"Country\", \"release_year\": \"Release Year\", \"listed_in\": \"Listed in\"}, inplace=True)\r\n",
    "\r\n",
    "with sqlite3.connect('netflix_csv.db') as con:\r\n",
    "       dropTable2 = \"DROP TABLE IF EXISTS New_data\"\r\n",
    "       con.execute(dropTable2)\r\n",
    "       netflixcsv2.to_sql(\"New_data\", con)\r\n",
    "\r\n",
    "\r\n",
    "#print(netflixcsv2.dtypes)\r\n",
    "#print(netflixcsv2[netflixcsv2['YearAdded'].isnull()])"
   ],
   "outputs": [],
   "metadata": {}
  }
 ],
 "metadata": {
  "orig_nbformat": 4,
  "language_info": {
   "name": "python",
   "version": "3.9.2",
   "mimetype": "text/x-python",
   "codemirror_mode": {
    "name": "ipython",
    "version": 3
   },
   "pygments_lexer": "ipython3",
   "nbconvert_exporter": "python",
   "file_extension": ".py"
  },
  "kernelspec": {
   "name": "python3",
   "display_name": "Python 3.9.2 64-bit"
  },
  "interpreter": {
   "hash": "da39f048566f68fadefc1b7c56a595576ed2b32ed26403e2f601c10c45870d64"
  }
 },
 "nbformat": 4,
 "nbformat_minor": 2
}