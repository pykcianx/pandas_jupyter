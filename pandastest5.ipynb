{
 "cells": [
  {
   "cell_type": "code",
   "execution_count": null,
   "metadata": {},
   "outputs": [],
   "source": [
    "import pandas as pd\n",
    "import os"
   ]
  },
  {
   "cell_type": "code",
   "execution_count": null,
   "metadata": {},
   "outputs": [],
   "source": [
    "netflixcsv = pd.read_csv(\"C:\\\\Users\\\\pykcian\\\\Desktop\\\\py\\\\netflix_titles.csv\")\n",
    "netflixcsv\n",
    "#list(csvnetflix.columns)"
   ]
  },
  {
   "cell_type": "code",
   "execution_count": null,
   "metadata": {},
   "outputs": [],
   "source": [
    "netflixcsv[\"computer_date\"] = pd.to_datetime(netflixcsv[\"date_added\"])\n",
    "netflixcsv"
   ]
  },
  {
   "cell_type": "code",
   "execution_count": null,
   "metadata": {},
   "outputs": [],
   "source": [
    "from datetime import datetime as dt"
   ]
  },
  {
   "cell_type": "code",
   "execution_count": null,
   "metadata": {},
   "outputs": [],
   "source": [
    "netflixcsv[\"computer_date\"].fillna(dt(2020, 1, 1), inplace=True)\n",
    "netflixcsv"
   ]
  },
  {
   "cell_type": "code",
   "execution_count": null,
   "metadata": {},
   "outputs": [],
   "source": [
    "netflixcsv[\"unix_time\"] = netflixcsv[\"computer_date\"].values.astype(int)"
   ]
  },
  {
   "cell_type": "code",
   "execution_count": null,
   "metadata": {},
   "outputs": [],
   "source": [
    "#SPLITTING ONE COLUMN TO TWO DIFFERENT COLUMNS\n",
    "netflixcsv[[\"Date Part 1\", \"Date Part 2\"]] = netflixcsv[\"date_added\"].str.split(\", \", expand=True)"
   ]
  },
  {
   "cell_type": "code",
   "execution_count": null,
   "metadata": {},
   "outputs": [],
   "source": [
    "netflixcsv"
   ]
  },
  {
   "cell_type": "code",
   "execution_count": null,
   "metadata": {},
   "outputs": [],
   "source": [
    "netflixcsv.rename(columns={\"Date Part 2\": \"Year\"}, inplace=True)\n",
    "netflixcsv"
   ]
  },
  {
   "cell_type": "code",
   "execution_count": null,
   "metadata": {},
   "outputs": [],
   "source": [
    "netflixcsv[\"cast\"].fillna(value=\"no cast\", inplace=True)\n",
    "netflixcsv\n",
    "netflixcsv[\"director\"].fillna(value=\"Pykcian\", inplace=True)\n",
    "netflixcsv\n",
    "#print(netflixcsv2[netflixcsv2['YearAdded'].isnull()])          SPRAWDZENIE WARTOSCI NULL W SERII"
   ]
  },
  {
   "cell_type": "code",
   "execution_count": null,
   "metadata": {},
   "outputs": [],
   "source": [
    "the_adder = lambda x: x + 210101\n",
    "the_adder(10)"
   ]
  },
  {
   "cell_type": "code",
   "execution_count": null,
   "metadata": {},
   "outputs": [],
   "source": [
    "#MAP FUNC APPLIES TO SERIES ONLY\n",
    "netflixcsv[\"genre_count\"] = netflixcsv[\"listed_in\"].map(lambda x: len(x.split(\",\")))\n",
    "netflixcsv"
   ]
  },
  {
   "cell_type": "code",
   "execution_count": null,
   "metadata": {},
   "outputs": [],
   "source": [
    "#APPLY FUNC APPLIES TO WHOLE DATAFRAME\n",
    "netflixcsv[\"test_column\"] = netflixcsv.apply(lambda x: len(x[\"cast\"].split(\",\")) + len(x[\"listed_in\"].split(\",\")), axis = 1)\n",
    "netflixcsv"
   ]
  },
  {
   "cell_type": "code",
   "execution_count": null,
   "metadata": {},
   "outputs": [],
   "source": [
    "#GROUP BY AGGREGATION \n",
    "netflix_mov_country = netflixcsv.groupby(\"country\")[\"show_id\"].count().reset_index()#.sort_values(by=\"show_id\", ascending=False) mozna tez na koncu tej linii dodac sort\n",
    "netflix_mov_country.sort_values(by=\"show_id\", ascending=False)      #ascending is as default"
   ]
  },
  {
   "cell_type": "code",
   "execution_count": null,
   "metadata": {},
   "outputs": [],
   "source": [
    "netflixcsv2 = pd.read_csv(\"C:\\\\Users\\\\pykcian\\\\Desktop\\\\py\\\\netflix_titles_second.csv\")\n",
    "netflixcsv2"
   ]
  },
  {
   "cell_type": "code",
   "execution_count": null,
   "metadata": {},
   "outputs": [],
   "source": [
    "#CONCAT PUTS ONE DATAFRAME ON TOP OF ANOTHER \n",
    "new_dataset = pd.concat([netflixcsv, netflixcsv2])\n",
    "new_dataset"
   ]
  },
  {
   "cell_type": "code",
   "execution_count": null,
   "metadata": {},
   "outputs": [],
   "source": [
    "#JOIN ALLOWS COMBINE TWO TABLES HORIZONTALY\n",
    "netflix_merged = pd.merge(left=netflixcsv2, right=netflix_mov_country, how=\"inner\", left_on=[\"country\"], right_on=[\"country\"])\n",
    "netflix_merged"
   ]
  },
  {
   "cell_type": "code",
   "execution_count": null,
   "metadata": {},
   "outputs": [],
   "source": [
    "#count the number of titles per type based on country\n",
    "pivot_table = netflixcsv.pivot_table(index=\"country\", columns=\"type\", values=\"title\", aggfunc=\"count\", fill_value=0).reset_index()\n",
    "pivot_table"
   ]
  },
  {
   "cell_type": "code",
   "execution_count": null,
   "metadata": {},
   "outputs": [],
   "source": [
    "df = pf.Dataframe\n",
    "df.melt(id_var=['A'], value_vars=['B'], var_name='myVarname', value_name='myValname')\n",
    "\n",
    "\n",
    "#print(netflixcsv2[netflixcsv2['YearAdded'].isnull()])"
   ]
  }
 ],
 "metadata": {
  "interpreter": {
   "hash": "da39f048566f68fadefc1b7c56a595576ed2b32ed26403e2f601c10c45870d64"
  },
  "kernelspec": {
   "display_name": "Python 3.9.2 64-bit",
   "name": "python3"
  },
  "language_info": {
   "codemirror_mode": {
    "name": "ipython",
    "version": 3
   },
   "file_extension": ".py",
   "mimetype": "text/x-python",
   "name": "python",
   "nbconvert_exporter": "python",
   "pygments_lexer": "ipython3",
   "version": "3.9.2"
  },
  "orig_nbformat": 4
 },
 "nbformat": 4,
 "nbformat_minor": 2
}
