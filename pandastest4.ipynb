{
 "cells": [
  {
   "cell_type": "code",
   "execution_count": null,
   "metadata": {},
   "outputs": [],
   "source": [
    "import pandas as pd\n",
    "import os"
   ]
  },
  {
   "cell_type": "code",
   "execution_count": null,
   "metadata": {},
   "outputs": [],
   "source": [
    "csvimport = pd.read_csv(\"C:\\\\Users\\\\pykcian\\\\Desktop\\\\py\\\\simple_csv.csv\", nrows=10)\n",
    "csvimport"
   ]
  },
  {
   "cell_type": "code",
   "execution_count": null,
   "metadata": {},
   "outputs": [],
   "source": [
    "#csvimport[\"Column1\"]"
   ]
  },
  {
   "cell_type": "code",
   "execution_count": null,
   "metadata": {},
   "outputs": [],
   "source": [
    "csvimport[\"New Column\"] = 1\n",
    "csvimport[\"New Column 2\"] = list(range(10))\n",
    "csvimport[\"Added output\"] = csvimport[\"New Column\"] + csvimport[\"New Column 2\"]\n",
    "csvimport"
   ]
  },
  {
   "cell_type": "code",
   "execution_count": null,
   "metadata": {},
   "outputs": [],
   "source": [
    "#csvimport = csvimport.drop(columns = \"New Column\")\n",
    "#csvimport.drop(columns = \"New Column\", inplace=True)\n",
    "csvimport"
   ]
  },
  {
   "cell_type": "code",
   "execution_count": null,
   "metadata": {},
   "outputs": [],
   "source": [
    "#series_test = list(range(1,100))\n",
    "#pd.Series(series_test)\n"
   ]
  },
  {
   "cell_type": "code",
   "execution_count": null,
   "metadata": {},
   "outputs": [],
   "source": [
    "csvnetflix = pd.read_csv(\"C:\\\\Users\\\\pykcian\\\\Desktop\\\\py\\\\netflix_titles.csv\")\n",
    "csvnetflix\n",
    "#list(csvnetflix.columns)\n"
   ]
  },
  {
   "cell_type": "code",
   "execution_count": null,
   "metadata": {},
   "outputs": [],
   "source": [
    "#csvnetflix.describe()\n",
    "#csvnetflix.corr()\n",
    "#csvnetflix[\"type\"].unique()\n"
   ]
  },
  {
   "cell_type": "code",
   "execution_count": null,
   "metadata": {},
   "outputs": [],
   "source": [
    "csvnetflix[csvnetflix[\"country\"] == \"West Germany\"]    #takes dependendencies only with column country singapore"
   ]
  },
  {
   "cell_type": "code",
   "execution_count": null,
   "metadata": {},
   "outputs": [],
   "source": [
    "#csvnetflix[(csvnetflix[\"country\"] == \"Singapore\") & (csvnetflix[\"rating\"] == \"TV-MA\")]\n",
    "\n",
    "#csvnetflix[csvnetflix[\"country\"] == \"Italy\"] \n",
    "\n",
    "#csvnetflix[(csvnetflix[\"country\"] == \"Italy\") & (csvnetflix[\"director\"] == \"Francesco Amato\")]\n",
    "\n",
    "\n",
    "#csvnetflix[(csvnetflix[\"country\"] == \"Italy\") & (csvnetflix[\"director\"])]\n",
    "#csvnetflix\n",
    "\n",
    "#csvnetflix = csvnetflix.drop(columns = [\"show_id\", \"cast\", \"date_added\"])\n",
    "#csvnetflix[(csvnetflix[\"country\"] == \"Italy\") & (csvnetflix[\"director\"])]\n",
    "\n",
    "\n",
    "csvnetflix[(csvnetflix[\"country\"] == \"Italy\") | (csvnetflix[\"director\"] == \"Francesco Amato\")]          #pipe \"|\" is \"or\"\n",
    "\n",
    "\n",
    "#csvnetflix = csvnetflix.drop(columns = \"duration\")\n",
    "#csvnetflix"
   ]
  },
  {
   "cell_type": "code",
   "execution_count": null,
   "metadata": {},
   "outputs": [],
   "source": [
    "#DATE CONVERSION \n",
    "#computer_date = pd.to_datetime(csvnetflix[\"date_added\"])\n",
    "#computer_date\n",
    "csvnetflix[\"computer_date\"] = pd.to_datetime(csvnetflix[\"date_added\"])\n",
    "csvnetflix"
   ]
  },
  {
   "cell_type": "code",
   "execution_count": null,
   "metadata": {},
   "outputs": [],
   "source": [
    "from datetime import datetime as dt"
   ]
  },
  {
   "cell_type": "code",
   "execution_count": null,
   "metadata": {},
   "outputs": [],
   "source": [
    "csvnetflix[\"computer_date\"].dropna()"
   ]
  },
  {
   "cell_type": "code",
   "execution_count": null,
   "metadata": {},
   "outputs": [],
   "source": [
    "csvnetflix[\"computer_date\"].fillna(dt(2020, 1, 1), inplace=True)\n",
    "csvnetflix"
   ]
  },
  {
   "cell_type": "code",
   "execution_count": null,
   "metadata": {},
   "outputs": [],
   "source": [
    "csvnetflix[\"unix_time\"] = csvnetflix[\"computer_date\"].astype(int)\n",
    "csvnetflix"
   ]
  },
  {
   "cell_type": "code",
   "execution_count": null,
   "metadata": {},
   "outputs": [],
   "source": [
    "csvnetflix[\"date_added\"].str.split(\", \", expand=True)\n",
    "csvnetflix"
   ]
  }
 ],
 "metadata": {
  "interpreter": {
   "hash": "da39f048566f68fadefc1b7c56a595576ed2b32ed26403e2f601c10c45870d64"
  },
  "kernelspec": {
   "display_name": "Python 3.9.2 64-bit",
   "name": "python3"
  },
  "language_info": {
   "codemirror_mode": {
    "name": "ipython",
    "version": 3
   },
   "file_extension": ".py",
   "mimetype": "text/x-python",
   "name": "python",
   "nbconvert_exporter": "python",
   "pygments_lexer": "ipython3",
   "version": "3.9.2"
  },
  "orig_nbformat": 4
 },
 "nbformat": 4,
 "nbformat_minor": 2
}
